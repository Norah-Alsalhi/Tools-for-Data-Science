{
  "cells": [
    {
      "cell_type": "markdown",
      "source": [
        "# Data Science Tools and Ecosystem\n"
      ],
      "metadata": {
        "id": "mf-mn3PUVs0v"
      }
    },
    {
      "cell_type": "markdown",
      "source": [
        "## Author\n",
        "Norah A."
      ],
      "metadata": {
        "id": "aW1Ja99wdYGZ"
      }
    },
    {
      "cell_type": "markdown",
      "source": [
        "This notebook summarizes the Data Science Tools and Ecosystem, providing a clear overview of what I learned from the IBM course [(Data Science Tools).](https://www.coursera.org/programs/saudi-digital-academy-nsgrx/learn/open-source-tools-for-data-science?authProvider=nelc&fromClip=sfc_page_course_link~e4DPm)"
      ],
      "metadata": {
        "id": "S9BrF6qxXlvD"
      }
    },
    {
      "cell_type": "markdown",
      "source": [
        "**Objectives:**\n",
        "- List popular languages for Data Science\n",
        "- List common used libraries used by Data Scientists\n",
        "- Tabulate data science tools\n",
        "- Evaluate arithmetic expressions\n"
      ],
      "metadata": {
        "id": "PElxuwcfZmw6"
      }
    },
    {
      "cell_type": "markdown",
      "source": [
        "---"
      ],
      "metadata": {
        "id": "31KaXg6FaDOi"
      }
    },
    {
      "cell_type": "markdown",
      "source": [
        "- Some of the popular languages that Data Scientists use are:\n",
        "1. Python\n",
        "2. SQL\n",
        "3. R\n",
        "4. Scala\n",
        "5. Julia"
      ],
      "metadata": {
        "id": "jtqFX9yLaE9p"
      }
    },
    {
      "cell_type": "markdown",
      "source": [
        "- Some of the commonly used libraries used by Data Scientists include:\n",
        "\n",
        "1. Pandas\n",
        "2. Scikit-learn\n",
        "3. Tensorflow\n",
        "4. Matplotlib\n",
        "5. NumPy"
      ],
      "metadata": {
        "id": "HRYeKAeebeOi"
      }
    },
    {
      "cell_type": "markdown",
      "source": [
        "\n",
        "- Create a markdown cell with a table of Data Science tools\n",
        "\n",
        "| Data Science Tools     |\n",
        "|------------------------|\n",
        "| Jupyter Notebook       |\n",
        "| RStudio                |\n",
        "| VS Code + Python       |"
      ],
      "metadata": {
        "id": "bBjBNDnhcDIV"
      }
    },
    {
      "cell_type": "markdown",
      "source": [
        "### Below are a few examples of evaluating arithmetic expressions in Python."
      ],
      "metadata": {
        "id": "xqShUbhycUsy"
      }
    },
    {
      "cell_type": "code",
      "source": [
        "#This a simple arithmetic expression to mutiply then add integers\n",
        "(15*2)+9"
      ],
      "metadata": {
        "colab": {
          "base_uri": "https://localhost:8080/"
        },
        "id": "gn4ES9RWZmY7",
        "outputId": "f6776194-e411-42a1-c5eb-e5ed8c617ecd"
      },
      "execution_count": 1,
      "outputs": [
        {
          "output_type": "execute_result",
          "data": {
            "text/plain": [
              "39"
            ]
          },
          "metadata": {},
          "execution_count": 1
        }
      ]
    },
    {
      "cell_type": "code",
      "source": [
        "# Convert 200 minutes to hours by dividing by 60\n",
        "minutes = 200\n",
        "hours = minutes / 60\n",
        "hours"
      ],
      "metadata": {
        "id": "BzYR6HmFVsNM"
      },
      "execution_count": null,
      "outputs": []
    }
  ],
  "metadata": {
    "kernelspec": {
      "display_name": "Python",
      "language": "python",
      "name": "conda-env-python-py"
    },
    "language_info": {
      "name": ""
    },
    "colab": {
      "provenance": []
    }
  },
  "nbformat": 4,
  "nbformat_minor": 0
}